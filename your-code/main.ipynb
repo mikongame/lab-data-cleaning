{
 "cells": [
  {
   "cell_type": "markdown",
   "metadata": {},
   "source": [
    "#### 1. Import pandas library"
   ]
  },
  {
   "cell_type": "code",
   "execution_count": 1,
   "metadata": {},
   "outputs": [],
   "source": [
    "import pandas as pd"
   ]
  },
  {
   "cell_type": "markdown",
   "metadata": {},
   "source": [
    "#### 2. Import BigQuery library\n"
   ]
  },
  {
   "cell_type": "code",
   "execution_count": 2,
   "metadata": {},
   "outputs": [],
   "source": [
    "import os\n",
    "os.environ[\"GOOGLE_APPLICATION_CREDENTIALS\"]=\"/Users/Miguel/Documents/GitHub/Ironhack exercises/Modulo 1/ironhack_service_account_big_query.json\"\n",
    "from google.cloud import bigquery"
   ]
  },
  {
   "cell_type": "markdown",
   "metadata": {},
   "source": [
    "#### 3. Create a connection to BigQuery"
   ]
  },
  {
   "cell_type": "code",
   "execution_count": 3,
   "metadata": {},
   "outputs": [],
   "source": [
    "client = bigquery.Client()"
   ]
  },
  {
   "cell_type": "markdown",
   "metadata": {},
   "source": [
    "#### 4. Import data from the users table from the stackoverflow public database for United Kingdom only"
   ]
  },
  {
   "cell_type": "code",
   "execution_count": 5,
   "metadata": {},
   "outputs": [],
   "source": [
    "query_1 = \"\"\" \n",
    "SELECT *\n",
    "\n",
    "FROM `bigquery-public-data.stackoverflow.users`\n",
    "\n",
    "WHERE location = \"United Kingdom\" \"\"\""
   ]
  },
  {
   "cell_type": "code",
   "execution_count": 6,
   "metadata": {},
   "outputs": [],
   "source": [
    "query_job_1= client.query(query=query_1)"
   ]
  },
  {
   "cell_type": "code",
   "execution_count": 7,
   "metadata": {},
   "outputs": [
    {
     "data": {
      "text/html": [
       "<div>\n",
       "<style scoped>\n",
       "    .dataframe tbody tr th:only-of-type {\n",
       "        vertical-align: middle;\n",
       "    }\n",
       "\n",
       "    .dataframe tbody tr th {\n",
       "        vertical-align: top;\n",
       "    }\n",
       "\n",
       "    .dataframe thead th {\n",
       "        text-align: right;\n",
       "    }\n",
       "</style>\n",
       "<table border=\"1\" class=\"dataframe\">\n",
       "  <thead>\n",
       "    <tr style=\"text-align: right;\">\n",
       "      <th></th>\n",
       "      <th>id</th>\n",
       "      <th>display_name</th>\n",
       "      <th>about_me</th>\n",
       "      <th>age</th>\n",
       "      <th>creation_date</th>\n",
       "      <th>last_access_date</th>\n",
       "      <th>location</th>\n",
       "      <th>reputation</th>\n",
       "      <th>up_votes</th>\n",
       "      <th>down_votes</th>\n",
       "      <th>views</th>\n",
       "      <th>profile_image_url</th>\n",
       "      <th>website_url</th>\n",
       "    </tr>\n",
       "  </thead>\n",
       "  <tbody>\n",
       "    <tr>\n",
       "      <td>0</td>\n",
       "      <td>2434</td>\n",
       "      <td>Daniel James</td>\n",
       "      <td>None</td>\n",
       "      <td>None</td>\n",
       "      <td>2008-08-22 10:14:24.370000+00:00</td>\n",
       "      <td>2019-09-02 18:09:02.960000+00:00</td>\n",
       "      <td>United Kingdom</td>\n",
       "      <td>3659</td>\n",
       "      <td>333</td>\n",
       "      <td>24</td>\n",
       "      <td>469</td>\n",
       "      <td>None</td>\n",
       "      <td>None</td>\n",
       "    </tr>\n",
       "    <tr>\n",
       "      <td>1</td>\n",
       "      <td>21442</td>\n",
       "      <td>nationale</td>\n",
       "      <td>None</td>\n",
       "      <td>None</td>\n",
       "      <td>2008-09-24 00:03:25.460000+00:00</td>\n",
       "      <td>2008-10-13 02:26:37.530000+00:00</td>\n",
       "      <td>United Kingdom</td>\n",
       "      <td>183</td>\n",
       "      <td>2</td>\n",
       "      <td>0</td>\n",
       "      <td>25</td>\n",
       "      <td>None</td>\n",
       "      <td>None</td>\n",
       "    </tr>\n",
       "    <tr>\n",
       "      <td>2</td>\n",
       "      <td>35186</td>\n",
       "      <td>Rav</td>\n",
       "      <td>None</td>\n",
       "      <td>None</td>\n",
       "      <td>2008-11-06 17:26:38.160000+00:00</td>\n",
       "      <td>2019-11-30 16:51:11.733000+00:00</td>\n",
       "      <td>United Kingdom</td>\n",
       "      <td>587</td>\n",
       "      <td>0</td>\n",
       "      <td>4</td>\n",
       "      <td>46</td>\n",
       "      <td>https://i.stack.imgur.com/ykhD5.jpg</td>\n",
       "      <td>None</td>\n",
       "    </tr>\n",
       "    <tr>\n",
       "      <td>3</td>\n",
       "      <td>95361</td>\n",
       "      <td>Russ Hayward</td>\n",
       "      <td>&lt;p&gt;I write code primarily in Java but I enjoy ...</td>\n",
       "      <td>None</td>\n",
       "      <td>2009-04-24 08:38:24.340000+00:00</td>\n",
       "      <td>2019-11-29 11:11:07.363000+00:00</td>\n",
       "      <td>United Kingdom</td>\n",
       "      <td>5369</td>\n",
       "      <td>679</td>\n",
       "      <td>16</td>\n",
       "      <td>793</td>\n",
       "      <td>None</td>\n",
       "      <td>http://www.blanksite.com/</td>\n",
       "    </tr>\n",
       "    <tr>\n",
       "      <td>4</td>\n",
       "      <td>134189</td>\n",
       "      <td>jezmck</td>\n",
       "      <td>None</td>\n",
       "      <td>None</td>\n",
       "      <td>2009-05-14 19:33:12.667000+00:00</td>\n",
       "      <td>2019-11-29 13:38:48.700000+00:00</td>\n",
       "      <td>United Kingdom</td>\n",
       "      <td>918</td>\n",
       "      <td>507</td>\n",
       "      <td>73</td>\n",
       "      <td>89</td>\n",
       "      <td>https://i.stack.imgur.com/xPsDD.jpg?s=128&amp;g=1</td>\n",
       "      <td>http://jezmck.com</td>\n",
       "    </tr>\n",
       "  </tbody>\n",
       "</table>\n",
       "</div>"
      ],
      "text/plain": [
       "       id  display_name                                           about_me  \\\n",
       "0    2434  Daniel James                                               None   \n",
       "1   21442     nationale                                               None   \n",
       "2   35186           Rav                                               None   \n",
       "3   95361  Russ Hayward  <p>I write code primarily in Java but I enjoy ...   \n",
       "4  134189        jezmck                                               None   \n",
       "\n",
       "    age                    creation_date                 last_access_date  \\\n",
       "0  None 2008-08-22 10:14:24.370000+00:00 2019-09-02 18:09:02.960000+00:00   \n",
       "1  None 2008-09-24 00:03:25.460000+00:00 2008-10-13 02:26:37.530000+00:00   \n",
       "2  None 2008-11-06 17:26:38.160000+00:00 2019-11-30 16:51:11.733000+00:00   \n",
       "3  None 2009-04-24 08:38:24.340000+00:00 2019-11-29 11:11:07.363000+00:00   \n",
       "4  None 2009-05-14 19:33:12.667000+00:00 2019-11-29 13:38:48.700000+00:00   \n",
       "\n",
       "         location  reputation  up_votes  down_votes  views  \\\n",
       "0  United Kingdom        3659       333          24    469   \n",
       "1  United Kingdom         183         2           0     25   \n",
       "2  United Kingdom         587         0           4     46   \n",
       "3  United Kingdom        5369       679          16    793   \n",
       "4  United Kingdom         918       507          73     89   \n",
       "\n",
       "                               profile_image_url                website_url  \n",
       "0                                           None                       None  \n",
       "1                                           None                       None  \n",
       "2            https://i.stack.imgur.com/ykhD5.jpg                       None  \n",
       "3                                           None  http://www.blanksite.com/  \n",
       "4  https://i.stack.imgur.com/xPsDD.jpg?s=128&g=1          http://jezmck.com  "
      ]
     },
     "execution_count": 7,
     "metadata": {},
     "output_type": "execute_result"
    }
   ],
   "source": [
    "dataframe_1 = query_job_1.to_dataframe()\n",
    "dataframe_1.head()"
   ]
  },
  {
   "cell_type": "markdown",
   "metadata": {},
   "source": [
    "#### 5. Rename id column to user_id"
   ]
  },
  {
   "cell_type": "code",
   "execution_count": 8,
   "metadata": {},
   "outputs": [],
   "source": [
    "dataframe_1.columns = [\"user_id\", \"display_name\", \"about_me\", \"age\", \"creation_date\", \"last_access_date\", \"location\", \"reputation\", \"up_votes\", \"down_votes\", \"views\", \"profile_image_url\", \"website_url\"]"
   ]
  },
  {
   "cell_type": "code",
   "execution_count": 9,
   "metadata": {},
   "outputs": [
    {
     "data": {
      "text/html": [
       "<div>\n",
       "<style scoped>\n",
       "    .dataframe tbody tr th:only-of-type {\n",
       "        vertical-align: middle;\n",
       "    }\n",
       "\n",
       "    .dataframe tbody tr th {\n",
       "        vertical-align: top;\n",
       "    }\n",
       "\n",
       "    .dataframe thead th {\n",
       "        text-align: right;\n",
       "    }\n",
       "</style>\n",
       "<table border=\"1\" class=\"dataframe\">\n",
       "  <thead>\n",
       "    <tr style=\"text-align: right;\">\n",
       "      <th></th>\n",
       "      <th>user_id</th>\n",
       "      <th>display_name</th>\n",
       "      <th>about_me</th>\n",
       "      <th>age</th>\n",
       "      <th>creation_date</th>\n",
       "      <th>last_access_date</th>\n",
       "      <th>location</th>\n",
       "      <th>reputation</th>\n",
       "      <th>up_votes</th>\n",
       "      <th>down_votes</th>\n",
       "      <th>views</th>\n",
       "      <th>profile_image_url</th>\n",
       "      <th>website_url</th>\n",
       "    </tr>\n",
       "  </thead>\n",
       "  <tbody>\n",
       "    <tr>\n",
       "      <td>0</td>\n",
       "      <td>2434</td>\n",
       "      <td>Daniel James</td>\n",
       "      <td>None</td>\n",
       "      <td>None</td>\n",
       "      <td>2008-08-22 10:14:24.370000+00:00</td>\n",
       "      <td>2019-09-02 18:09:02.960000+00:00</td>\n",
       "      <td>United Kingdom</td>\n",
       "      <td>3659</td>\n",
       "      <td>333</td>\n",
       "      <td>24</td>\n",
       "      <td>469</td>\n",
       "      <td>None</td>\n",
       "      <td>None</td>\n",
       "    </tr>\n",
       "    <tr>\n",
       "      <td>1</td>\n",
       "      <td>21442</td>\n",
       "      <td>nationale</td>\n",
       "      <td>None</td>\n",
       "      <td>None</td>\n",
       "      <td>2008-09-24 00:03:25.460000+00:00</td>\n",
       "      <td>2008-10-13 02:26:37.530000+00:00</td>\n",
       "      <td>United Kingdom</td>\n",
       "      <td>183</td>\n",
       "      <td>2</td>\n",
       "      <td>0</td>\n",
       "      <td>25</td>\n",
       "      <td>None</td>\n",
       "      <td>None</td>\n",
       "    </tr>\n",
       "    <tr>\n",
       "      <td>2</td>\n",
       "      <td>35186</td>\n",
       "      <td>Rav</td>\n",
       "      <td>None</td>\n",
       "      <td>None</td>\n",
       "      <td>2008-11-06 17:26:38.160000+00:00</td>\n",
       "      <td>2019-11-30 16:51:11.733000+00:00</td>\n",
       "      <td>United Kingdom</td>\n",
       "      <td>587</td>\n",
       "      <td>0</td>\n",
       "      <td>4</td>\n",
       "      <td>46</td>\n",
       "      <td>https://i.stack.imgur.com/ykhD5.jpg</td>\n",
       "      <td>None</td>\n",
       "    </tr>\n",
       "    <tr>\n",
       "      <td>3</td>\n",
       "      <td>95361</td>\n",
       "      <td>Russ Hayward</td>\n",
       "      <td>&lt;p&gt;I write code primarily in Java but I enjoy ...</td>\n",
       "      <td>None</td>\n",
       "      <td>2009-04-24 08:38:24.340000+00:00</td>\n",
       "      <td>2019-11-29 11:11:07.363000+00:00</td>\n",
       "      <td>United Kingdom</td>\n",
       "      <td>5369</td>\n",
       "      <td>679</td>\n",
       "      <td>16</td>\n",
       "      <td>793</td>\n",
       "      <td>None</td>\n",
       "      <td>http://www.blanksite.com/</td>\n",
       "    </tr>\n",
       "    <tr>\n",
       "      <td>4</td>\n",
       "      <td>134189</td>\n",
       "      <td>jezmck</td>\n",
       "      <td>None</td>\n",
       "      <td>None</td>\n",
       "      <td>2009-05-14 19:33:12.667000+00:00</td>\n",
       "      <td>2019-11-29 13:38:48.700000+00:00</td>\n",
       "      <td>United Kingdom</td>\n",
       "      <td>918</td>\n",
       "      <td>507</td>\n",
       "      <td>73</td>\n",
       "      <td>89</td>\n",
       "      <td>https://i.stack.imgur.com/xPsDD.jpg?s=128&amp;g=1</td>\n",
       "      <td>http://jezmck.com</td>\n",
       "    </tr>\n",
       "  </tbody>\n",
       "</table>\n",
       "</div>"
      ],
      "text/plain": [
       "   user_id  display_name                                           about_me  \\\n",
       "0     2434  Daniel James                                               None   \n",
       "1    21442     nationale                                               None   \n",
       "2    35186           Rav                                               None   \n",
       "3    95361  Russ Hayward  <p>I write code primarily in Java but I enjoy ...   \n",
       "4   134189        jezmck                                               None   \n",
       "\n",
       "    age                    creation_date                 last_access_date  \\\n",
       "0  None 2008-08-22 10:14:24.370000+00:00 2019-09-02 18:09:02.960000+00:00   \n",
       "1  None 2008-09-24 00:03:25.460000+00:00 2008-10-13 02:26:37.530000+00:00   \n",
       "2  None 2008-11-06 17:26:38.160000+00:00 2019-11-30 16:51:11.733000+00:00   \n",
       "3  None 2009-04-24 08:38:24.340000+00:00 2019-11-29 11:11:07.363000+00:00   \n",
       "4  None 2009-05-14 19:33:12.667000+00:00 2019-11-29 13:38:48.700000+00:00   \n",
       "\n",
       "         location  reputation  up_votes  down_votes  views  \\\n",
       "0  United Kingdom        3659       333          24    469   \n",
       "1  United Kingdom         183         2           0     25   \n",
       "2  United Kingdom         587         0           4     46   \n",
       "3  United Kingdom        5369       679          16    793   \n",
       "4  United Kingdom         918       507          73     89   \n",
       "\n",
       "                               profile_image_url                website_url  \n",
       "0                                           None                       None  \n",
       "1                                           None                       None  \n",
       "2            https://i.stack.imgur.com/ykhD5.jpg                       None  \n",
       "3                                           None  http://www.blanksite.com/  \n",
       "4  https://i.stack.imgur.com/xPsDD.jpg?s=128&g=1          http://jezmck.com  "
      ]
     },
     "execution_count": 9,
     "metadata": {},
     "output_type": "execute_result"
    }
   ],
   "source": [
    "dataframe_1.head()"
   ]
  },
  {
   "cell_type": "markdown",
   "metadata": {},
   "source": [
    "#### 6. Import from the stackoverflow_posts table all items which have up to 20 view counts and only select 'id', 'owner_user_id', 'score', 'view_count', 'comment_count', 'favorite_count'"
   ]
  },
  {
   "cell_type": "code",
   "execution_count": 10,
   "metadata": {},
   "outputs": [],
   "source": [
    "query_2 = \"\"\" \n",
    "SELECT id, owner_user_id,  score,  view_count,  comment_count,  favorite_count   \n",
    "\n",
    "FROM `bigquery-public-data.stackoverflow.stackoverflow_posts`\n",
    "\n",
    "WHERE view_count <= 20\n",
    "\n",
    "ORDER BY owner_user_id DESC \"\"\""
   ]
  },
  {
   "cell_type": "code",
   "execution_count": 11,
   "metadata": {},
   "outputs": [],
   "source": [
    "query_job_2= client.query(query=query_2)"
   ]
  },
  {
   "cell_type": "code",
   "execution_count": 13,
   "metadata": {},
   "outputs": [
    {
     "data": {
      "text/html": [
       "<div>\n",
       "<style scoped>\n",
       "    .dataframe tbody tr th:only-of-type {\n",
       "        vertical-align: middle;\n",
       "    }\n",
       "\n",
       "    .dataframe tbody tr th {\n",
       "        vertical-align: top;\n",
       "    }\n",
       "\n",
       "    .dataframe thead th {\n",
       "        text-align: right;\n",
       "    }\n",
       "</style>\n",
       "<table border=\"1\" class=\"dataframe\">\n",
       "  <thead>\n",
       "    <tr style=\"text-align: right;\">\n",
       "      <th></th>\n",
       "      <th>id</th>\n",
       "      <th>owner_user_id</th>\n",
       "      <th>score</th>\n",
       "      <th>view_count</th>\n",
       "      <th>comment_count</th>\n",
       "      <th>favorite_count</th>\n",
       "    </tr>\n",
       "  </thead>\n",
       "  <tbody>\n",
       "    <tr>\n",
       "      <td>0</td>\n",
       "      <td>37770625</td>\n",
       "      <td>6455132.0</td>\n",
       "      <td>0</td>\n",
       "      <td>5</td>\n",
       "      <td>0</td>\n",
       "      <td>NaN</td>\n",
       "    </tr>\n",
       "    <tr>\n",
       "      <td>1</td>\n",
       "      <td>37770603</td>\n",
       "      <td>6455125.0</td>\n",
       "      <td>-1</td>\n",
       "      <td>2</td>\n",
       "      <td>0</td>\n",
       "      <td>NaN</td>\n",
       "    </tr>\n",
       "    <tr>\n",
       "      <td>2</td>\n",
       "      <td>37770587</td>\n",
       "      <td>6455117.0</td>\n",
       "      <td>0</td>\n",
       "      <td>17</td>\n",
       "      <td>2</td>\n",
       "      <td>NaN</td>\n",
       "    </tr>\n",
       "    <tr>\n",
       "      <td>3</td>\n",
       "      <td>37770626</td>\n",
       "      <td>6455113.0</td>\n",
       "      <td>-2</td>\n",
       "      <td>2</td>\n",
       "      <td>1</td>\n",
       "      <td>NaN</td>\n",
       "    </tr>\n",
       "    <tr>\n",
       "      <td>4</td>\n",
       "      <td>37770491</td>\n",
       "      <td>6455091.0</td>\n",
       "      <td>-2</td>\n",
       "      <td>10</td>\n",
       "      <td>1</td>\n",
       "      <td>NaN</td>\n",
       "    </tr>\n",
       "  </tbody>\n",
       "</table>\n",
       "</div>"
      ],
      "text/plain": [
       "         id  owner_user_id  score  view_count  comment_count  favorite_count\n",
       "0  37770625      6455132.0      0           5              0             NaN\n",
       "1  37770603      6455125.0     -1           2              0             NaN\n",
       "2  37770587      6455117.0      0          17              2             NaN\n",
       "3  37770626      6455113.0     -2           2              1             NaN\n",
       "4  37770491      6455091.0     -2          10              1             NaN"
      ]
     },
     "execution_count": 13,
     "metadata": {},
     "output_type": "execute_result"
    }
   ],
   "source": [
    "dataframe_2 = query_job_2.to_dataframe()\n",
    "dataframe_2.head()"
   ]
  },
  {
   "cell_type": "markdown",
   "metadata": {},
   "source": [
    "#### 7. Rename id column to post_id and owner_user_id to user_id"
   ]
  },
  {
   "cell_type": "code",
   "execution_count": 14,
   "metadata": {},
   "outputs": [],
   "source": [
    "dataframe_2.columns = [\"post_id\", \"user_id\", \"score\", \"view_count\", \"comment_count\", \"favorite_count\"]"
   ]
  },
  {
   "cell_type": "markdown",
   "metadata": {},
   "source": [
    "#### 8. Define new dataframes for users and posts with the following selected columns:\n",
    "    **users columns**: user_id, reputation,views,up_votes,down_votes\n",
    "    **posts columns**: post_id, score,user_id,view_count,comment_count"
   ]
  },
  {
   "cell_type": "code",
   "execution_count": 15,
   "metadata": {},
   "outputs": [
    {
     "ename": "KeyError",
     "evalue": "\"['down_votes', 'up_votes', 'reputation', 'views'] not in index\"",
     "output_type": "error",
     "traceback": [
      "\u001b[1;31m---------------------------------------------------------------------------\u001b[0m",
      "\u001b[1;31mKeyError\u001b[0m                                  Traceback (most recent call last)",
      "\u001b[1;32m<ipython-input-15-0a201efd5492>\u001b[0m in \u001b[0;36m<module>\u001b[1;34m\u001b[0m\n\u001b[1;32m----> 1\u001b[1;33m \u001b[0mdataframe_users\u001b[0m \u001b[1;33m=\u001b[0m \u001b[0mdataframe_2\u001b[0m\u001b[1;33m[\u001b[0m\u001b[1;33m[\u001b[0m\u001b[1;34m\"user_id\"\u001b[0m\u001b[1;33m,\u001b[0m \u001b[1;34m\"reputation\"\u001b[0m\u001b[1;33m,\u001b[0m \u001b[1;34m\"views\"\u001b[0m\u001b[1;33m,\u001b[0m \u001b[1;34m\"up_votes\"\u001b[0m\u001b[1;33m,\u001b[0m \u001b[1;34m\"down_votes\"\u001b[0m\u001b[1;33m]\u001b[0m\u001b[1;33m]\u001b[0m\u001b[1;33m.\u001b[0m\u001b[0mcopy\u001b[0m\u001b[1;33m(\u001b[0m\u001b[1;33m)\u001b[0m\u001b[1;33m\u001b[0m\u001b[1;33m\u001b[0m\u001b[0m\n\u001b[0m\u001b[0;32m      2\u001b[0m \u001b[0mdataframe_users\u001b[0m\u001b[1;33m.\u001b[0m\u001b[0mhead\u001b[0m\u001b[1;33m(\u001b[0m\u001b[1;33m)\u001b[0m\u001b[1;33m\u001b[0m\u001b[1;33m\u001b[0m\u001b[0m\n",
      "\u001b[1;32m~\\Anaconda3\\lib\\site-packages\\pandas\\core\\frame.py\u001b[0m in \u001b[0;36m__getitem__\u001b[1;34m(self, key)\u001b[0m\n\u001b[0;32m   2984\u001b[0m             \u001b[1;32mif\u001b[0m \u001b[0mis_iterator\u001b[0m\u001b[1;33m(\u001b[0m\u001b[0mkey\u001b[0m\u001b[1;33m)\u001b[0m\u001b[1;33m:\u001b[0m\u001b[1;33m\u001b[0m\u001b[1;33m\u001b[0m\u001b[0m\n\u001b[0;32m   2985\u001b[0m                 \u001b[0mkey\u001b[0m \u001b[1;33m=\u001b[0m \u001b[0mlist\u001b[0m\u001b[1;33m(\u001b[0m\u001b[0mkey\u001b[0m\u001b[1;33m)\u001b[0m\u001b[1;33m\u001b[0m\u001b[1;33m\u001b[0m\u001b[0m\n\u001b[1;32m-> 2986\u001b[1;33m             \u001b[0mindexer\u001b[0m \u001b[1;33m=\u001b[0m \u001b[0mself\u001b[0m\u001b[1;33m.\u001b[0m\u001b[0mloc\u001b[0m\u001b[1;33m.\u001b[0m\u001b[0m_convert_to_indexer\u001b[0m\u001b[1;33m(\u001b[0m\u001b[0mkey\u001b[0m\u001b[1;33m,\u001b[0m \u001b[0maxis\u001b[0m\u001b[1;33m=\u001b[0m\u001b[1;36m1\u001b[0m\u001b[1;33m,\u001b[0m \u001b[0mraise_missing\u001b[0m\u001b[1;33m=\u001b[0m\u001b[1;32mTrue\u001b[0m\u001b[1;33m)\u001b[0m\u001b[1;33m\u001b[0m\u001b[1;33m\u001b[0m\u001b[0m\n\u001b[0m\u001b[0;32m   2987\u001b[0m \u001b[1;33m\u001b[0m\u001b[0m\n\u001b[0;32m   2988\u001b[0m         \u001b[1;31m# take() does not accept boolean indexers\u001b[0m\u001b[1;33m\u001b[0m\u001b[1;33m\u001b[0m\u001b[1;33m\u001b[0m\u001b[0m\n",
      "\u001b[1;32m~\\Anaconda3\\lib\\site-packages\\pandas\\core\\indexing.py\u001b[0m in \u001b[0;36m_convert_to_indexer\u001b[1;34m(self, obj, axis, is_setter, raise_missing)\u001b[0m\n\u001b[0;32m   1283\u001b[0m                 \u001b[1;31m# When setting, missing keys are not allowed, even with .loc:\u001b[0m\u001b[1;33m\u001b[0m\u001b[1;33m\u001b[0m\u001b[1;33m\u001b[0m\u001b[0m\n\u001b[0;32m   1284\u001b[0m                 \u001b[0mkwargs\u001b[0m \u001b[1;33m=\u001b[0m \u001b[1;33m{\u001b[0m\u001b[1;34m\"raise_missing\"\u001b[0m\u001b[1;33m:\u001b[0m \u001b[1;32mTrue\u001b[0m \u001b[1;32mif\u001b[0m \u001b[0mis_setter\u001b[0m \u001b[1;32melse\u001b[0m \u001b[0mraise_missing\u001b[0m\u001b[1;33m}\u001b[0m\u001b[1;33m\u001b[0m\u001b[1;33m\u001b[0m\u001b[0m\n\u001b[1;32m-> 1285\u001b[1;33m                 \u001b[1;32mreturn\u001b[0m \u001b[0mself\u001b[0m\u001b[1;33m.\u001b[0m\u001b[0m_get_listlike_indexer\u001b[0m\u001b[1;33m(\u001b[0m\u001b[0mobj\u001b[0m\u001b[1;33m,\u001b[0m \u001b[0maxis\u001b[0m\u001b[1;33m,\u001b[0m \u001b[1;33m**\u001b[0m\u001b[0mkwargs\u001b[0m\u001b[1;33m)\u001b[0m\u001b[1;33m[\u001b[0m\u001b[1;36m1\u001b[0m\u001b[1;33m]\u001b[0m\u001b[1;33m\u001b[0m\u001b[1;33m\u001b[0m\u001b[0m\n\u001b[0m\u001b[0;32m   1286\u001b[0m         \u001b[1;32melse\u001b[0m\u001b[1;33m:\u001b[0m\u001b[1;33m\u001b[0m\u001b[1;33m\u001b[0m\u001b[0m\n\u001b[0;32m   1287\u001b[0m             \u001b[1;32mtry\u001b[0m\u001b[1;33m:\u001b[0m\u001b[1;33m\u001b[0m\u001b[1;33m\u001b[0m\u001b[0m\n",
      "\u001b[1;32m~\\Anaconda3\\lib\\site-packages\\pandas\\core\\indexing.py\u001b[0m in \u001b[0;36m_get_listlike_indexer\u001b[1;34m(self, key, axis, raise_missing)\u001b[0m\n\u001b[0;32m   1090\u001b[0m \u001b[1;33m\u001b[0m\u001b[0m\n\u001b[0;32m   1091\u001b[0m         self._validate_read_indexer(\n\u001b[1;32m-> 1092\u001b[1;33m             \u001b[0mkeyarr\u001b[0m\u001b[1;33m,\u001b[0m \u001b[0mindexer\u001b[0m\u001b[1;33m,\u001b[0m \u001b[0mo\u001b[0m\u001b[1;33m.\u001b[0m\u001b[0m_get_axis_number\u001b[0m\u001b[1;33m(\u001b[0m\u001b[0maxis\u001b[0m\u001b[1;33m)\u001b[0m\u001b[1;33m,\u001b[0m \u001b[0mraise_missing\u001b[0m\u001b[1;33m=\u001b[0m\u001b[0mraise_missing\u001b[0m\u001b[1;33m\u001b[0m\u001b[1;33m\u001b[0m\u001b[0m\n\u001b[0m\u001b[0;32m   1093\u001b[0m         )\n\u001b[0;32m   1094\u001b[0m         \u001b[1;32mreturn\u001b[0m \u001b[0mkeyarr\u001b[0m\u001b[1;33m,\u001b[0m \u001b[0mindexer\u001b[0m\u001b[1;33m\u001b[0m\u001b[1;33m\u001b[0m\u001b[0m\n",
      "\u001b[1;32m~\\Anaconda3\\lib\\site-packages\\pandas\\core\\indexing.py\u001b[0m in \u001b[0;36m_validate_read_indexer\u001b[1;34m(self, key, indexer, axis, raise_missing)\u001b[0m\n\u001b[0;32m   1183\u001b[0m             \u001b[1;32mif\u001b[0m \u001b[1;32mnot\u001b[0m \u001b[1;33m(\u001b[0m\u001b[0mself\u001b[0m\u001b[1;33m.\u001b[0m\u001b[0mname\u001b[0m \u001b[1;33m==\u001b[0m \u001b[1;34m\"loc\"\u001b[0m \u001b[1;32mand\u001b[0m \u001b[1;32mnot\u001b[0m \u001b[0mraise_missing\u001b[0m\u001b[1;33m)\u001b[0m\u001b[1;33m:\u001b[0m\u001b[1;33m\u001b[0m\u001b[1;33m\u001b[0m\u001b[0m\n\u001b[0;32m   1184\u001b[0m                 \u001b[0mnot_found\u001b[0m \u001b[1;33m=\u001b[0m \u001b[0mlist\u001b[0m\u001b[1;33m(\u001b[0m\u001b[0mset\u001b[0m\u001b[1;33m(\u001b[0m\u001b[0mkey\u001b[0m\u001b[1;33m)\u001b[0m \u001b[1;33m-\u001b[0m \u001b[0mset\u001b[0m\u001b[1;33m(\u001b[0m\u001b[0max\u001b[0m\u001b[1;33m)\u001b[0m\u001b[1;33m)\u001b[0m\u001b[1;33m\u001b[0m\u001b[1;33m\u001b[0m\u001b[0m\n\u001b[1;32m-> 1185\u001b[1;33m                 \u001b[1;32mraise\u001b[0m \u001b[0mKeyError\u001b[0m\u001b[1;33m(\u001b[0m\u001b[1;34m\"{} not in index\"\u001b[0m\u001b[1;33m.\u001b[0m\u001b[0mformat\u001b[0m\u001b[1;33m(\u001b[0m\u001b[0mnot_found\u001b[0m\u001b[1;33m)\u001b[0m\u001b[1;33m)\u001b[0m\u001b[1;33m\u001b[0m\u001b[1;33m\u001b[0m\u001b[0m\n\u001b[0m\u001b[0;32m   1186\u001b[0m \u001b[1;33m\u001b[0m\u001b[0m\n\u001b[0;32m   1187\u001b[0m             \u001b[1;31m# we skip the warning on Categorical/Interval\u001b[0m\u001b[1;33m\u001b[0m\u001b[1;33m\u001b[0m\u001b[1;33m\u001b[0m\u001b[0m\n",
      "\u001b[1;31mKeyError\u001b[0m: \"['down_votes', 'up_votes', 'reputation', 'views'] not in index\""
     ]
    }
   ],
   "source": [
    "dataframe_users = dataframe_2[[\"user_id\", \"reputation\", \"views\", \"up_votes\", \"down_votes\"]].copy()\n",
    "dataframe_users.head()\n"
   ]
  },
  {
   "cell_type": "markdown",
   "metadata": {},
   "source": [
    "#### 8. Merge both dataframes, users and posts. \n",
    "You will need to make a [merge](https://pandas.pydata.org/pandas-docs/stable/generated/pandas.DataFrame.merge.html) of posts and users dataframes."
   ]
  },
  {
   "cell_type": "code",
   "execution_count": null,
   "metadata": {},
   "outputs": [],
   "source": []
  },
  {
   "cell_type": "markdown",
   "metadata": {},
   "source": [
    "#### 9. How many missing values do you have in your merged dataframe? "
   ]
  },
  {
   "cell_type": "code",
   "execution_count": null,
   "metadata": {},
   "outputs": [],
   "source": []
  },
  {
   "cell_type": "markdown",
   "metadata": {},
   "source": [
    "#### Bonus: Identify extreme values in your merged dataframe, create a dataframe called outliers with the same columns as our data set and calculate the bounds. The values of the outliers dataframe will be the values of the merged_df that fall outside that bounds. You will need to save your outliers dataframe to a csv file on your-code folder. Hint: post_id cannot have outliers!"
   ]
  }
 ],
 "metadata": {
  "kernelspec": {
   "display_name": "Python 3",
   "language": "python",
   "name": "python3"
  },
  "language_info": {
   "codemirror_mode": {
    "name": "ipython",
    "version": 3
   },
   "file_extension": ".py",
   "mimetype": "text/x-python",
   "name": "python",
   "nbconvert_exporter": "python",
   "pygments_lexer": "ipython3",
   "version": "3.7.4"
  },
  "varInspector": {
   "cols": {
    "lenName": 16,
    "lenType": 16,
    "lenVar": 40
   },
   "kernels_config": {
    "python": {
     "delete_cmd_postfix": "",
     "delete_cmd_prefix": "del ",
     "library": "var_list.py",
     "varRefreshCmd": "print(var_dic_list())"
    },
    "r": {
     "delete_cmd_postfix": ") ",
     "delete_cmd_prefix": "rm(",
     "library": "var_list.r",
     "varRefreshCmd": "cat(var_dic_list()) "
    }
   },
   "types_to_exclude": [
    "module",
    "function",
    "builtin_function_or_method",
    "instance",
    "_Feature"
   ],
   "window_display": false
  }
 },
 "nbformat": 4,
 "nbformat_minor": 2
}

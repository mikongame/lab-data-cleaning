{
 "cells": [
  {
   "cell_type": "markdown",
   "metadata": {},
   "source": [
    "#### 1. Import pandas library"
   ]
  },
  {
   "cell_type": "code",
   "execution_count": 2,
   "metadata": {},
   "outputs": [],
   "source": [
    "import pandas as pd"
   ]
  },
  {
   "cell_type": "markdown",
   "metadata": {},
   "source": [
    "#### 2. Import BigQuery library\n"
   ]
  },
  {
   "cell_type": "code",
   "execution_count": 3,
   "metadata": {},
   "outputs": [],
   "source": [
    "import os\n",
    "os.environ[\"GOOGLE_APPLICATION_CREDENTIALS\"]=\"/Users/Miguel/Documents/GitHub/Ironhack exercises/Modulo 1/ironhack_service_account_big_query.json\"\n",
    "from google.cloud import bigquery"
   ]
  },
  {
   "cell_type": "markdown",
   "metadata": {},
   "source": [
    "#### 3. Create a connection to BigQuery"
   ]
  },
  {
   "cell_type": "code",
   "execution_count": 4,
   "metadata": {},
   "outputs": [],
   "source": [
    "client = bigquery.Client()"
   ]
  },
  {
   "cell_type": "markdown",
   "metadata": {},
   "source": [
    "#### 4. Import data from the users table from the stackoverflow public database for United Kingdom only"
   ]
  },
  {
   "cell_type": "code",
   "execution_count": 9,
   "metadata": {},
   "outputs": [],
   "source": [
    "query_1 = \"\"\" \n",
    "SELECT *\n",
    "\n",
    "FROM `bigquery-public-data.stackoverflow.users`\n",
    "\n",
    "WHERE location = \"United Kingdom\"\n",
    "\"\"\""
   ]
  },
  {
   "cell_type": "code",
   "execution_count": 10,
   "metadata": {},
   "outputs": [],
   "source": [
    "query_job_1= client.query(query=query_1)"
   ]
  },
  {
   "cell_type": "code",
   "execution_count": 12,
   "metadata": {},
   "outputs": [
    {
     "data": {
      "text/html": [
       "<div>\n",
       "<style scoped>\n",
       "    .dataframe tbody tr th:only-of-type {\n",
       "        vertical-align: middle;\n",
       "    }\n",
       "\n",
       "    .dataframe tbody tr th {\n",
       "        vertical-align: top;\n",
       "    }\n",
       "\n",
       "    .dataframe thead th {\n",
       "        text-align: right;\n",
       "    }\n",
       "</style>\n",
       "<table border=\"1\" class=\"dataframe\">\n",
       "  <thead>\n",
       "    <tr style=\"text-align: right;\">\n",
       "      <th></th>\n",
       "      <th>id</th>\n",
       "      <th>display_name</th>\n",
       "      <th>about_me</th>\n",
       "      <th>age</th>\n",
       "      <th>creation_date</th>\n",
       "      <th>last_access_date</th>\n",
       "      <th>location</th>\n",
       "      <th>reputation</th>\n",
       "      <th>up_votes</th>\n",
       "      <th>down_votes</th>\n",
       "      <th>views</th>\n",
       "      <th>profile_image_url</th>\n",
       "      <th>website_url</th>\n",
       "    </tr>\n",
       "  </thead>\n",
       "  <tbody>\n",
       "    <tr>\n",
       "      <td>0</td>\n",
       "      <td>5337</td>\n",
       "      <td>J Hunt</td>\n",
       "      <td>&lt;p&gt;&lt;/p&gt;</td>\n",
       "      <td>None</td>\n",
       "      <td>2008-09-09 09:07:41.840000+00:00</td>\n",
       "      <td>2015-02-19 16:29:45.007000+00:00</td>\n",
       "      <td>United Kingdom</td>\n",
       "      <td>602</td>\n",
       "      <td>1</td>\n",
       "      <td>0</td>\n",
       "      <td>127</td>\n",
       "      <td>None</td>\n",
       "      <td>None</td>\n",
       "    </tr>\n",
       "    <tr>\n",
       "      <td>1</td>\n",
       "      <td>6910</td>\n",
       "      <td>Jonathan</td>\n",
       "      <td>&lt;ul&gt;&lt;li&gt;Started programming with Visual Basic ...</td>\n",
       "      <td>None</td>\n",
       "      <td>2008-09-15 12:48:35.843000+00:00</td>\n",
       "      <td>2019-11-29 15:15:39.270000+00:00</td>\n",
       "      <td>United Kingdom</td>\n",
       "      <td>21315</td>\n",
       "      <td>897</td>\n",
       "      <td>8</td>\n",
       "      <td>831</td>\n",
       "      <td>https://www.gravatar.com/avatar/592695fec5a951...</td>\n",
       "      <td>http://www.toolan.net</td>\n",
       "    </tr>\n",
       "    <tr>\n",
       "      <td>2</td>\n",
       "      <td>33682</td>\n",
       "      <td>James Crowley</td>\n",
       "      <td>&lt;p&gt;Co-founder at &lt;a href=\"http://www.fundapps....</td>\n",
       "      <td>None</td>\n",
       "      <td>2008-11-03 15:43:51.987000+00:00</td>\n",
       "      <td>2019-11-19 17:11:30.080000+00:00</td>\n",
       "      <td>United Kingdom</td>\n",
       "      <td>3218</td>\n",
       "      <td>124</td>\n",
       "      <td>3</td>\n",
       "      <td>448</td>\n",
       "      <td>None</td>\n",
       "      <td>http://www.jamescrowley.net/</td>\n",
       "    </tr>\n",
       "    <tr>\n",
       "      <td>3</td>\n",
       "      <td>73789</td>\n",
       "      <td>Perrin255</td>\n",
       "      <td>None</td>\n",
       "      <td>None</td>\n",
       "      <td>2009-03-04 16:50:24.240000+00:00</td>\n",
       "      <td>2019-04-26 14:48:57.903000+00:00</td>\n",
       "      <td>United Kingdom</td>\n",
       "      <td>431</td>\n",
       "      <td>55</td>\n",
       "      <td>0</td>\n",
       "      <td>49</td>\n",
       "      <td>None</td>\n",
       "      <td>None</td>\n",
       "    </tr>\n",
       "    <tr>\n",
       "      <td>4</td>\n",
       "      <td>90996</td>\n",
       "      <td>badmanj</td>\n",
       "      <td>None</td>\n",
       "      <td>None</td>\n",
       "      <td>2009-04-15 09:01:26.433000+00:00</td>\n",
       "      <td>2010-04-09 10:31:19.850000+00:00</td>\n",
       "      <td>United Kingdom</td>\n",
       "      <td>178</td>\n",
       "      <td>3</td>\n",
       "      <td>0</td>\n",
       "      <td>51</td>\n",
       "      <td>None</td>\n",
       "      <td>None</td>\n",
       "    </tr>\n",
       "  </tbody>\n",
       "</table>\n",
       "</div>"
      ],
      "text/plain": [
       "      id   display_name                                           about_me  \\\n",
       "0   5337         J Hunt                                            <p></p>   \n",
       "1   6910       Jonathan  <ul><li>Started programming with Visual Basic ...   \n",
       "2  33682  James Crowley  <p>Co-founder at <a href=\"http://www.fundapps....   \n",
       "3  73789      Perrin255                                               None   \n",
       "4  90996        badmanj                                               None   \n",
       "\n",
       "    age                    creation_date                 last_access_date  \\\n",
       "0  None 2008-09-09 09:07:41.840000+00:00 2015-02-19 16:29:45.007000+00:00   \n",
       "1  None 2008-09-15 12:48:35.843000+00:00 2019-11-29 15:15:39.270000+00:00   \n",
       "2  None 2008-11-03 15:43:51.987000+00:00 2019-11-19 17:11:30.080000+00:00   \n",
       "3  None 2009-03-04 16:50:24.240000+00:00 2019-04-26 14:48:57.903000+00:00   \n",
       "4  None 2009-04-15 09:01:26.433000+00:00 2010-04-09 10:31:19.850000+00:00   \n",
       "\n",
       "         location  reputation  up_votes  down_votes  views  \\\n",
       "0  United Kingdom         602         1           0    127   \n",
       "1  United Kingdom       21315       897           8    831   \n",
       "2  United Kingdom        3218       124           3    448   \n",
       "3  United Kingdom         431        55           0     49   \n",
       "4  United Kingdom         178         3           0     51   \n",
       "\n",
       "                                   profile_image_url  \\\n",
       "0                                               None   \n",
       "1  https://www.gravatar.com/avatar/592695fec5a951...   \n",
       "2                                               None   \n",
       "3                                               None   \n",
       "4                                               None   \n",
       "\n",
       "                    website_url  \n",
       "0                          None  \n",
       "1         http://www.toolan.net  \n",
       "2  http://www.jamescrowley.net/  \n",
       "3                          None  \n",
       "4                          None  "
      ]
     },
     "execution_count": 12,
     "metadata": {},
     "output_type": "execute_result"
    }
   ],
   "source": [
    "dataframe_1 = query_job_1.to_dataframe()\n",
    "dataframe_1.head()"
   ]
  },
  {
   "cell_type": "markdown",
   "metadata": {},
   "source": [
    "#### 5. Rename id column to user_id"
   ]
  },
  {
   "cell_type": "code",
   "execution_count": 13,
   "metadata": {},
   "outputs": [
    {
     "ename": "NameError",
     "evalue": "name 'data' is not defined",
     "output_type": "error",
     "traceback": [
      "\u001b[1;31m---------------------------------------------------------------------------\u001b[0m",
      "\u001b[1;31mNameError\u001b[0m                                 Traceback (most recent call last)",
      "\u001b[1;32m<ipython-input-13-a7d1f3356631>\u001b[0m in \u001b[0;36m<module>\u001b[1;34m\u001b[0m\n\u001b[0;32m      1\u001b[0m data.columns = ['user_id', 'display_name', 'about_me', 'age', 'creation_date',\n\u001b[0;32m      2\u001b[0m        \u001b[1;34m'last_access_date'\u001b[0m\u001b[1;33m,\u001b[0m \u001b[1;34m'location'\u001b[0m\u001b[1;33m,\u001b[0m \u001b[1;34m'reputation'\u001b[0m\u001b[1;33m,\u001b[0m \u001b[1;34m'up_votes'\u001b[0m\u001b[1;33m,\u001b[0m \u001b[1;34m'down_votes'\u001b[0m\u001b[1;33m,\u001b[0m\u001b[1;33m\u001b[0m\u001b[1;33m\u001b[0m\u001b[0m\n\u001b[1;32m----> 3\u001b[1;33m        'views', 'profile_image_url', 'website_url']\n\u001b[0m",
      "\u001b[1;31mNameError\u001b[0m: name 'data' is not defined"
     ]
    }
   ],
   "source": [
    "data.columns = ['user_id', 'display_name', 'about_me', 'age', 'creation_date',\n",
    "       'last_access_date', 'location', 'reputation', 'up_votes', 'down_votes',\n",
    "       'views', 'profile_image_url', 'website_url']"
   ]
  },
  {
   "cell_type": "markdown",
   "metadata": {},
   "source": [
    "#### 6. Import from the stackoverflow_posts table all items which have up to 20 view counts and only select 'id', 'owner_user_id', 'score', 'view_count', 'comment_count', 'favorite_count'"
   ]
  },
  {
   "cell_type": "code",
   "execution_count": 22,
   "metadata": {
    "collapsed": true
   },
   "outputs": [],
   "source": []
  },
  {
   "cell_type": "markdown",
   "metadata": {},
   "source": [
    "#### 7. Rename id column to post_id and owner_user_id to user_id"
   ]
  },
  {
   "cell_type": "code",
   "execution_count": 24,
   "metadata": {
    "collapsed": true
   },
   "outputs": [],
   "source": []
  },
  {
   "cell_type": "markdown",
   "metadata": {},
   "source": [
    "#### 8. Define new dataframes for users and posts with the following selected columns:\n",
    "    **users columns**: user_id, reputation,views,up_votes,down_votes\n",
    "    **posts columns**: post_id, score,user_id,view_count,comment_count"
   ]
  },
  {
   "cell_type": "code",
   "execution_count": 26,
   "metadata": {},
   "outputs": [
    {
     "data": {
      "text/html": [
       "<div>\n",
       "<style>\n",
       "    .dataframe thead tr:only-child th {\n",
       "        text-align: right;\n",
       "    }\n",
       "\n",
       "    .dataframe thead th {\n",
       "        text-align: left;\n",
       "    }\n",
       "\n",
       "    .dataframe tbody tr th {\n",
       "        vertical-align: top;\n",
       "    }\n",
       "</style>\n",
       "<table border=\"1\" class=\"dataframe\">\n",
       "  <thead>\n",
       "    <tr style=\"text-align: right;\">\n",
       "      <th></th>\n",
       "      <th>user_id</th>\n",
       "      <th>reputation</th>\n",
       "      <th>views</th>\n",
       "      <th>up_votes</th>\n",
       "      <th>down_votes</th>\n",
       "    </tr>\n",
       "  </thead>\n",
       "  <tbody>\n",
       "    <tr>\n",
       "      <th>0</th>\n",
       "      <td>32777</td>\n",
       "      <td>731</td>\n",
       "      <td>38</td>\n",
       "      <td>16</td>\n",
       "      <td>6</td>\n",
       "    </tr>\n",
       "    <tr>\n",
       "      <th>1</th>\n",
       "      <td>77741</td>\n",
       "      <td>435</td>\n",
       "      <td>110</td>\n",
       "      <td>28</td>\n",
       "      <td>1</td>\n",
       "    </tr>\n",
       "    <tr>\n",
       "      <th>2</th>\n",
       "      <td>174979</td>\n",
       "      <td>916</td>\n",
       "      <td>91</td>\n",
       "      <td>186</td>\n",
       "      <td>19</td>\n",
       "    </tr>\n",
       "    <tr>\n",
       "      <th>3</th>\n",
       "      <td>1502608</td>\n",
       "      <td>1264</td>\n",
       "      <td>90</td>\n",
       "      <td>44</td>\n",
       "      <td>0</td>\n",
       "    </tr>\n",
       "    <tr>\n",
       "      <th>4</th>\n",
       "      <td>2550349</td>\n",
       "      <td>1674</td>\n",
       "      <td>170</td>\n",
       "      <td>398</td>\n",
       "      <td>8</td>\n",
       "    </tr>\n",
       "  </tbody>\n",
       "</table>\n",
       "</div>"
      ],
      "text/plain": [
       "   user_id  reputation  views  up_votes  down_votes\n",
       "0    32777         731     38        16           6\n",
       "1    77741         435    110        28           1\n",
       "2   174979         916     91       186          19\n",
       "3  1502608        1264     90        44           0\n",
       "4  2550349        1674    170       398           8"
      ]
     },
     "execution_count": 26,
     "metadata": {},
     "output_type": "execute_result"
    }
   ],
   "source": []
  },
  {
   "cell_type": "markdown",
   "metadata": {},
   "source": [
    "#### 8. Merge both dataframes, users and posts. \n",
    "You will need to make a [merge](https://pandas.pydata.org/pandas-docs/stable/generated/pandas.DataFrame.merge.html) of posts and users dataframes."
   ]
  },
  {
   "cell_type": "code",
   "execution_count": 29,
   "metadata": {
    "collapsed": true
   },
   "outputs": [],
   "source": []
  },
  {
   "cell_type": "markdown",
   "metadata": {},
   "source": [
    "#### 9. How many missing values do you have in your merged dataframe? "
   ]
  },
  {
   "cell_type": "code",
   "execution_count": null,
   "metadata": {
    "collapsed": true
   },
   "outputs": [],
   "source": []
  },
  {
   "cell_type": "markdown",
   "metadata": {},
   "source": [
    "#### Bonus: Identify extreme values in your merged dataframe, create a dataframe called outliers with the same columns as our data set and calculate the bounds. The values of the outliers dataframe will be the values of the merged_df that fall outside that bounds. You will need to save your outliers dataframe to a csv file on your-code folder. Hint: post_id cannot have outliers!"
   ]
  }
 ],
 "metadata": {
  "kernelspec": {
   "display_name": "Python 3",
   "language": "python",
   "name": "python3"
  },
  "language_info": {
   "codemirror_mode": {
    "name": "ipython",
    "version": 3
   },
   "file_extension": ".py",
   "mimetype": "text/x-python",
   "name": "python",
   "nbconvert_exporter": "python",
   "pygments_lexer": "ipython3",
   "version": "3.7.4"
  },
  "varInspector": {
   "cols": {
    "lenName": 16,
    "lenType": 16,
    "lenVar": 40
   },
   "kernels_config": {
    "python": {
     "delete_cmd_postfix": "",
     "delete_cmd_prefix": "del ",
     "library": "var_list.py",
     "varRefreshCmd": "print(var_dic_list())"
    },
    "r": {
     "delete_cmd_postfix": ") ",
     "delete_cmd_prefix": "rm(",
     "library": "var_list.r",
     "varRefreshCmd": "cat(var_dic_list()) "
    }
   },
   "types_to_exclude": [
    "module",
    "function",
    "builtin_function_or_method",
    "instance",
    "_Feature"
   ],
   "window_display": false
  }
 },
 "nbformat": 4,
 "nbformat_minor": 2
}
